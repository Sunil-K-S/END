{
  "nbformat": 4,
  "nbformat_minor": 0,
  "metadata": {
    "colab": {
      "name": "END_Assignment_8.2.ipynb",
      "provenance": [],
      "collapsed_sections": []
    },
    "kernelspec": {
      "name": "python3",
      "display_name": "Python 3"
    }
  },
  "cells": [
    {
      "cell_type": "markdown",
      "metadata": {
        "id": "SW-hEA1-hnPO"
      },
      "source": [
        "1"
      ]
    },
    {
      "cell_type": "code",
      "metadata": {
        "colab": {
          "base_uri": "https://localhost:8080/"
        },
        "id": "0UeDRzUtXly1",
        "outputId": "638361ba-f1e8-40d7-bc7c-11c15fa9a11c"
      },
      "source": [
        "# write a python program to add three numbers\r\n",
        "num1 = 1\r\n",
        "num2 = 6\r\n",
        "num3 = 3\r\n",
        "sum = num1 + num2 + num3\r\n",
        "print(f'Sum: {sum}')"
      ],
      "execution_count": null,
      "outputs": [
        {
          "output_type": "stream",
          "text": [
            "Sum: 10\n"
          ],
          "name": "stdout"
        }
      ]
    },
    {
      "cell_type": "markdown",
      "metadata": {
        "id": "D0GzYMC0hrCL"
      },
      "source": [
        "2"
      ]
    },
    {
      "cell_type": "code",
      "metadata": {
        "id": "MPvm5VGGaIdd"
      },
      "source": [
        "# write a python function to add two user provided numbers and return the sum\r\n",
        "def add_three_numbers(num1, num2, num3):\r\n",
        "    sum = num1 + num2 + num3\r\n",
        "    return sum"
      ],
      "execution_count": null,
      "outputs": []
    },
    {
      "cell_type": "markdown",
      "metadata": {
        "id": "3jf_CZfOhtay"
      },
      "source": [
        "3"
      ]
    },
    {
      "cell_type": "code",
      "metadata": {
        "colab": {
          "base_uri": "https://localhost:8080/"
        },
        "id": "ehrb7Gbhamvd",
        "outputId": "4d11ad01-d189-4184-848c-8fbcd0555691"
      },
      "source": [
        "# write a program to find and print the largest among three numbers\r\n",
        "num1 = 10\r\n",
        "num2 = 12\r\n",
        "if (num1 >= num2):\r\n",
        "  largest = num1\r\n",
        "else:\r\n",
        "  largest = num2\r\n",
        "print(f'largest:{largest}')\r\n"
      ],
      "execution_count": null,
      "outputs": [
        {
          "output_type": "stream",
          "text": [
            "largest:12\n"
          ],
          "name": "stdout"
        }
      ]
    },
    {
      "cell_type": "markdown",
      "metadata": {
        "id": "Kd1I2Ckwi1on"
      },
      "source": [
        "4"
      ]
    },
    {
      "cell_type": "code",
      "metadata": {
        "colab": {
          "base_uri": "https://localhost:8080/"
        },
        "id": "TEmkmJ3wawJC",
        "outputId": "c82f0605-a25a-4c58-f8f2-4f9e2d38ed8e"
      },
      "source": [
        "# write a program to print first 10 natural numbers\r\n",
        "\r\n",
        "x = [i for i in range(1, 11)]\r\n",
        "print(x)"
      ],
      "execution_count": null,
      "outputs": [
        {
          "output_type": "stream",
          "text": [
            "[1, 2, 3, 4, 5, 6, 7, 8, 9, 10]\n"
          ],
          "name": "stdout"
        }
      ]
    },
    {
      "cell_type": "markdown",
      "metadata": {
        "id": "E-aQQw5Wi4Bu"
      },
      "source": [
        "5"
      ]
    },
    {
      "cell_type": "code",
      "metadata": {
        "id": "Q5fuZMoGdKbg"
      },
      "source": [
        "# 5 write a function to add first 10 natural numbers\r\n",
        "\r\n",
        "def add_nat_10():\r\n",
        "  result = 0\r\n",
        "  for i in range(1,11):\r\n",
        "    result+=i\r\n",
        "  return result"
      ],
      "execution_count": null,
      "outputs": []
    },
    {
      "cell_type": "markdown",
      "metadata": {
        "id": "58lFsiuhi6nX"
      },
      "source": [
        "6"
      ]
    },
    {
      "cell_type": "code",
      "metadata": {
        "id": "AXM1ljy5eHEq"
      },
      "source": [
        "# Write a function to check if a number is odd\r\n",
        "\r\n",
        "def is_odd(num):\r\n",
        "  return (num%2 != 0)"
      ],
      "execution_count": null,
      "outputs": []
    },
    {
      "cell_type": "markdown",
      "metadata": {
        "id": "370LnWM1i8No"
      },
      "source": [
        "7"
      ]
    },
    {
      "cell_type": "code",
      "metadata": {
        "id": "rnqHwLZtefiR"
      },
      "source": [
        "# write a function to sum the elements in the given list\r\n",
        "\r\n",
        "def list_sum(list1):\r\n",
        "  total = 0\r\n",
        "  for ele in range(0, len(list1)):\r\n",
        "    total = total + list1[ele]\r\n",
        "  return total"
      ],
      "execution_count": null,
      "outputs": []
    },
    {
      "cell_type": "markdown",
      "metadata": {
        "id": "O90y59SEi9pD"
      },
      "source": [
        "8"
      ]
    },
    {
      "cell_type": "code",
      "metadata": {
        "id": "xMmY2CwkfeXT"
      },
      "source": [
        "# write a function to strip vowels in the given word\r\n",
        "\r\n",
        "def strip_vowels(word):\r\n",
        "  vowels = \"AaEeIiOoUu\"\r\n",
        "  return(list (x for x in word if x not in vowels))"
      ],
      "execution_count": null,
      "outputs": []
    },
    {
      "cell_type": "markdown",
      "metadata": {
        "id": "3tV3_vr4jAAr"
      },
      "source": [
        "9"
      ]
    },
    {
      "cell_type": "code",
      "metadata": {
        "id": "GQyaDCipf27p"
      },
      "source": [
        "# Write a function that prints first n fibonacci numbers\r\n",
        "\r\n",
        "def generate_fibonacci_series(n):\r\n",
        "    f1 = 0\r\n",
        "    f2 = 1\r\n",
        "    if (n < 1):\r\n",
        "        return\r\n",
        "    print(f1, end=\" \")\r\n",
        "    for x in range(1, n):\r\n",
        "        print(f2, end=\" \")\r\n",
        "        next = f1 + f2\r\n",
        "        f1 = f2\r\n",
        "        f2 = next\r\n"
      ],
      "execution_count": null,
      "outputs": []
    },
    {
      "cell_type": "markdown",
      "metadata": {
        "id": "dlv_2xJLjJHV"
      },
      "source": [
        "10"
      ]
    },
    {
      "cell_type": "code",
      "metadata": {
        "id": "uSwY3lyRjItF"
      },
      "source": [
        "# Write a function to get the missing angle of a triangle when any two angles are given\r\n",
        "\r\n",
        "def missing_angle(angle1, angle2):\r\n",
        "  return 180 - (angle1+angle2)\r\n"
      ],
      "execution_count": null,
      "outputs": []
    },
    {
      "cell_type": "markdown",
      "metadata": {
        "id": "vaP9Pjs1lUwh"
      },
      "source": [
        "11"
      ]
    },
    {
      "cell_type": "code",
      "metadata": {
        "colab": {
          "base_uri": "https://localhost:8080/",
          "height": 35
        },
        "id": "QVwjlG2glVde",
        "outputId": "889af519-c58e-4f84-88ab-e831e9f499ba"
      },
      "source": [
        "# Write a program that reverses a string\r\n",
        "\r\n",
        "str = \"noob\"\r\n",
        "\r\n",
        "str[::-1]"
      ],
      "execution_count": null,
      "outputs": [
        {
          "output_type": "execute_result",
          "data": {
            "application/vnd.google.colaboratory.intrinsic+json": {
              "type": "string"
            },
            "text/plain": [
              "'boon'"
            ]
          },
          "metadata": {
            "tags": []
          },
          "execution_count": 37
        }
      ]
    },
    {
      "cell_type": "markdown",
      "metadata": {
        "id": "Uv53BE33lxIL"
      },
      "source": [
        "12"
      ]
    },
    {
      "cell_type": "code",
      "metadata": {
        "colab": {
          "base_uri": "https://localhost:8080/"
        },
        "id": "NoN9fnNOlytk",
        "outputId": "277f9ecb-e2a5-46f6-9c86-576b13f90962"
      },
      "source": [
        "# Write a program to sort alphabetically the words form a string\r\n",
        "\r\n",
        "my_str = \"Hello this Is an Example With cased letters\"\r\n",
        "\r\n",
        "words = [word.lower() for word in my_str.split()]\r\n",
        "words.sort()\r\n",
        "print(\"The sorted words are:\")\r\n",
        "for word in words:\r\n",
        "   print(word)"
      ],
      "execution_count": null,
      "outputs": [
        {
          "output_type": "stream",
          "text": [
            "The sorted words are:\n",
            "an\n",
            "cased\n",
            "example\n",
            "hello\n",
            "is\n",
            "letters\n",
            "this\n",
            "with\n"
          ],
          "name": "stdout"
        }
      ]
    },
    {
      "cell_type": "markdown",
      "metadata": {
        "id": "xk4GahUBm8nC"
      },
      "source": [
        "13"
      ]
    },
    {
      "cell_type": "code",
      "metadata": {
        "id": "xcoNvUi8m9jd"
      },
      "source": [
        "# Write a program to find the union of two sets"
      ],
      "execution_count": null,
      "outputs": []
    },
    {
      "cell_type": "code",
      "metadata": {
        "colab": {
          "base_uri": "https://localhost:8080/"
        },
        "id": "CWRCwSKGnLbC",
        "outputId": "5f840005-61e3-4f43-8d55-fa1f8b76b36c"
      },
      "source": [
        "E = {0, 2, 4, 6, 8};\r\n",
        "N = {1, 2, 3, 4, 5};\r\n",
        "\r\n",
        "print(\"Union of E and N is\", E | N)"
      ],
      "execution_count": null,
      "outputs": [
        {
          "output_type": "stream",
          "text": [
            "Union of E and N is {0, 1, 2, 3, 4, 5, 6, 8}\n"
          ],
          "name": "stdout"
        }
      ]
    },
    {
      "cell_type": "markdown",
      "metadata": {
        "id": "VJFPKT1GnSQt"
      },
      "source": [
        "14"
      ]
    },
    {
      "cell_type": "code",
      "metadata": {
        "id": "KF29eXYtogar"
      },
      "source": [
        "# Write a function that capitalizes all the words in the given sentence\r\n",
        "\r\n",
        "def capitalize(sentence):\r\n",
        "  lst = sentence.split()\r\n",
        "  wlist = []\r\n",
        "  i = 0\r\n",
        "  while i < len(lst):\r\n",
        "    x = lst[i]\r\n",
        "    wlist.append(x.upper())\r\n",
        "    i += 1\r\n",
        "\r\n",
        "  return ' '.join(wlist)"
      ],
      "execution_count": null,
      "outputs": []
    },
    {
      "cell_type": "markdown",
      "metadata": {
        "id": "9cBRNK8lJIyO"
      },
      "source": [
        "15"
      ]
    },
    {
      "cell_type": "code",
      "metadata": {
        "colab": {
          "base_uri": "https://localhost:8080/"
        },
        "id": "ed3gMXclJH7U",
        "outputId": "01dd5d6e-07ac-4623-e271-2df89b1e9f3b"
      },
      "source": [
        "# Write a program to print the square of a number using lambda\r\n",
        "\r\n",
        "num1 = 7\r\n",
        "\r\n",
        "lf = lambda a : a * a\r\n",
        "\r\n",
        "lf(num1)"
      ],
      "execution_count": null,
      "outputs": [
        {
          "output_type": "execute_result",
          "data": {
            "text/plain": [
              "49"
            ]
          },
          "metadata": {
            "tags": []
          },
          "execution_count": 42
        }
      ]
    },
    {
      "cell_type": "markdown",
      "metadata": {
        "id": "u70259d6KPbO"
      },
      "source": [
        "16"
      ]
    },
    {
      "cell_type": "code",
      "metadata": {
        "id": "MvactpWNKOy0"
      },
      "source": [
        "# Write a function that returns the area of a triangle when base and height is given\r\n",
        "\r\n",
        "def traingle_area(base, height):\r\n",
        "  return (0.5)*(base * height)"
      ],
      "execution_count": null,
      "outputs": []
    },
    {
      "cell_type": "markdown",
      "metadata": {
        "id": "WOjFgb5nLhYb"
      },
      "source": [
        "17"
      ]
    },
    {
      "cell_type": "code",
      "metadata": {
        "colab": {
          "base_uri": "https://localhost:8080/"
        },
        "id": "HQgKfx_VLhGv",
        "outputId": "fc8f8b00-e307-423f-cc24-913b5e751a9d"
      },
      "source": [
        "# Write a program that filters the list of integers greater than 7\r\n",
        "\r\n",
        "ll = [2, 6, 8, 10, 11, 4, 12, 7, 13, 17, 0, 3, 21]\r\n",
        "\r\n",
        "filtered_list = list(filter(lambda num: (num > 7), ll))\r\n",
        "\r\n",
        "print(filtered_list)"
      ],
      "execution_count": null,
      "outputs": [
        {
          "output_type": "stream",
          "text": [
            "[8, 10, 11, 12, 13, 17, 21]\n"
          ],
          "name": "stdout"
        }
      ]
    },
    {
      "cell_type": "markdown",
      "metadata": {
        "id": "JeVSiuUCQqF_"
      },
      "source": [
        "18"
      ]
    },
    {
      "cell_type": "code",
      "metadata": {
        "id": "rVee4rTJQp15"
      },
      "source": [
        "# Write a function to check if a file exits\r\n",
        "import os\r\n",
        "\r\n",
        "def is_file_exists(file_name):\r\n",
        "  return os.path.exists(file_name)"
      ],
      "execution_count": null,
      "outputs": []
    },
    {
      "cell_type": "markdown",
      "metadata": {
        "id": "L9fuB8qPDQ9K"
      },
      "source": [
        "19"
      ]
    },
    {
      "cell_type": "code",
      "metadata": {
        "colab": {
          "base_uri": "https://localhost:8080/"
        },
        "id": "fdbF74QaDQsA",
        "outputId": "fb3aa79a-630a-4e6c-df0f-116fa3614461"
      },
      "source": [
        "# Write a program to delete a file\r\n",
        "import os\r\n",
        "\r\n",
        "if os.path.exists(\"demofile.txt\"):\r\n",
        "  os.remove(\"demofile.txt\")\r\n",
        "else:\r\n",
        "  print(\"The file does not exist\")\r\n",
        "\r\n"
      ],
      "execution_count": null,
      "outputs": [
        {
          "output_type": "stream",
          "text": [
            "The file does not exist\n"
          ],
          "name": "stdout"
        }
      ]
    },
    {
      "cell_type": "markdown",
      "metadata": {
        "id": "CPsWfVQBEH-W"
      },
      "source": [
        "20"
      ]
    },
    {
      "cell_type": "code",
      "metadata": {
        "id": "XtQo6H9CEHqC"
      },
      "source": [
        "# Write a program that writes a line in a file\r\n",
        "\r\n",
        "f = open(\"demofile.txt\", \"a\")\r\n",
        "f.write(\"Now the file has more content!\")\r\n",
        "f.close()"
      ],
      "execution_count": null,
      "outputs": []
    },
    {
      "cell_type": "markdown",
      "metadata": {
        "id": "f2I_o0lni7e0"
      },
      "source": [
        "21"
      ]
    },
    {
      "cell_type": "code",
      "metadata": {
        "colab": {
          "base_uri": "https://localhost:8080/"
        },
        "id": "pevC0Ofoi7I2",
        "outputId": "6c35be6a-fa0d-4678-a5ad-164a55393869"
      },
      "source": [
        "# Write a program that overwrites the content in a file\r\n",
        "\r\n",
        "f = open(\"demofile.txt\", \"r\")\r\n",
        "print(f.read())\r\n",
        "f = open(\"demofile.txt\", \"w\")\r\n",
        "f.write(\"Woops! I have deleted the content!\")\r\n",
        "f.close()"
      ],
      "execution_count": null,
      "outputs": [
        {
          "output_type": "stream",
          "text": [
            "Now the file has more content!\n"
          ],
          "name": "stdout"
        }
      ]
    },
    {
      "cell_type": "markdown",
      "metadata": {
        "id": "cxwn0gLHjOn8"
      },
      "source": [
        "22"
      ]
    },
    {
      "cell_type": "code",
      "metadata": {
        "id": "WdHTSKF9jEtd",
        "colab": {
          "base_uri": "https://localhost:8080/"
        },
        "outputId": "a46c9e88-4f0d-4943-8e26-fed48c573daf"
      },
      "source": [
        "# Write a program that loops through the array\r\n",
        "\r\n",
        "cars = [\"Ford\", \"Volvo\", \"BMW\"]\r\n",
        "\r\n",
        "for x in cars:\r\n",
        "  print(x)"
      ],
      "execution_count": null,
      "outputs": [
        {
          "output_type": "stream",
          "text": [
            "Ford\n",
            "Volvo\n",
            "BMW\n"
          ],
          "name": "stdout"
        }
      ]
    },
    {
      "cell_type": "markdown",
      "metadata": {
        "id": "3ijcU0VJXvf2"
      },
      "source": [
        "23"
      ]
    },
    {
      "cell_type": "code",
      "metadata": {
        "colab": {
          "base_uri": "https://localhost:8080/"
        },
        "id": "0rmpIT0iXrhc",
        "outputId": "d4ff72aa-200e-4bfb-b27d-75b9c7f92dd2"
      },
      "source": [
        "# Write a program using list comprehension to copy elements from one list to another if character 'a' is present in the list element\r\n",
        "\r\n",
        "fruits = [\"apple\", \"banana\", \"cherry\", \"kiwi\", \"mango\"]\r\n",
        "newlist = [x for x in fruits if \"a\" in x]\r\n",
        "\r\n",
        "print(newlist)"
      ],
      "execution_count": null,
      "outputs": [
        {
          "output_type": "stream",
          "text": [
            "['apple', 'banana', 'mango']\n"
          ],
          "name": "stdout"
        }
      ]
    },
    {
      "cell_type": "markdown",
      "metadata": {
        "id": "2GKeAHoeYcFB"
      },
      "source": [
        "24"
      ]
    },
    {
      "cell_type": "code",
      "metadata": {
        "colab": {
          "base_uri": "https://localhost:8080/"
        },
        "id": "OgL2jK8XYfSr",
        "outputId": "258bcc2f-7eb7-42ce-85c0-b77357a25a0a"
      },
      "source": [
        "# Write a program to join two lists\r\n",
        "\r\n",
        "list1 = [\"a\", \"b\" , \"c\"]\r\n",
        "list2 = [1, 2, 3]\r\n",
        "\r\n",
        "for x in list2:\r\n",
        "  list1.append(x)\r\n",
        "\r\n",
        "print(list1)"
      ],
      "execution_count": null,
      "outputs": [
        {
          "output_type": "stream",
          "text": [
            "['a', 'b', 'c', 1, 2, 3]\n"
          ],
          "name": "stdout"
        }
      ]
    },
    {
      "cell_type": "markdown",
      "metadata": {
        "id": "Kz0TqxUHZEmt"
      },
      "source": [
        "25"
      ]
    },
    {
      "cell_type": "code",
      "metadata": {
        "colab": {
          "base_uri": "https://localhost:8080/"
        },
        "id": "3fbtKh6gZFCx",
        "outputId": "b369e7f4-39e9-4043-e75c-c93a3bb6ada9"
      },
      "source": [
        "# Write a program to access a range of list elements\r\n",
        "\r\n",
        "thislist = [\"apple\", \"banana\", \"cherry\", \"orange\", \"kiwi\", \"melon\", \"mango\"]\r\n",
        "print(thislist[2:5])"
      ],
      "execution_count": null,
      "outputs": [
        {
          "output_type": "stream",
          "text": [
            "['cherry', 'orange', 'kiwi']\n"
          ],
          "name": "stdout"
        }
      ]
    },
    {
      "cell_type": "markdown",
      "metadata": {
        "id": "DNX6j5SVZaeM"
      },
      "source": [
        "26"
      ]
    },
    {
      "cell_type": "code",
      "metadata": {
        "colab": {
          "base_uri": "https://localhost:8080/"
        },
        "id": "xYS2Nd9pZa2C",
        "outputId": "76efed06-0db1-4cf3-8b8d-d75712419a85"
      },
      "source": [
        "# Write a program to check if an element exists in a list\r\n",
        "\r\n",
        "thislist = [\"apple\", \"banana\", \"cherry\"]\r\n",
        "if \"apple\" in thislist:\r\n",
        "  print(\"Yes, 'apple' is in the fruits list\")"
      ],
      "execution_count": null,
      "outputs": [
        {
          "output_type": "stream",
          "text": [
            "Yes, 'apple' is in the fruits list\n"
          ],
          "name": "stdout"
        }
      ]
    },
    {
      "cell_type": "markdown",
      "metadata": {
        "id": "4R1YtwFPaVst"
      },
      "source": [
        "27"
      ]
    },
    {
      "cell_type": "code",
      "metadata": {
        "colab": {
          "base_uri": "https://localhost:8080/"
        },
        "id": "wjVWnT3NaW4a",
        "outputId": "950957fe-e3e8-40b4-9b18-6c6b9cfac7c9"
      },
      "source": [
        "thislist = [\"apple\", \"banana\", \"cherry\"]\r\n",
        "if \"banana\" in thislist:\r\n",
        "  thislist.remove(\"banana\")\r\n",
        "else:\r\n",
        "  print(\"element does not exists\")\r\n",
        "print(thislist)"
      ],
      "execution_count": null,
      "outputs": [
        {
          "output_type": "stream",
          "text": [
            "['apple', 'cherry']\n"
          ],
          "name": "stdout"
        }
      ]
    },
    {
      "cell_type": "markdown",
      "metadata": {
        "id": "-2kcj7ZbbwjA"
      },
      "source": [
        "28"
      ]
    },
    {
      "cell_type": "code",
      "metadata": {
        "colab": {
          "base_uri": "https://localhost:8080/"
        },
        "id": "DHmiQ6kzbxVK",
        "outputId": "ed9bf79c-e035-468d-8e96-c1b1784533ce"
      },
      "source": [
        "# Write a program to check if a key exists in dictionary\r\n",
        "\r\n",
        "fruits_dict = dict(apple= 1, mango= 3, banana= 4)\r\n",
        "\r\n",
        "key = 'orange'\r\n",
        "\r\n",
        "try:\r\n",
        "    fruits_dict[key]\r\n",
        "except KeyError as err:\r\n",
        "    print('Key not found')"
      ],
      "execution_count": null,
      "outputs": [
        {
          "output_type": "stream",
          "text": [
            "Key not found\n"
          ],
          "name": "stdout"
        }
      ]
    },
    {
      "cell_type": "markdown",
      "metadata": {
        "id": "CsxZUWlicaM0"
      },
      "source": [
        "29"
      ]
    },
    {
      "cell_type": "code",
      "metadata": {
        "colab": {
          "base_uri": "https://localhost:8080/"
        },
        "id": "RPHQ4XWjcbTh",
        "outputId": "ce4bcccc-0da1-4ad4-ecd5-3c707de65081"
      },
      "source": [
        "# Write a program to obtain a part of string using slicing\r\n",
        "\r\n",
        "random_string = 'incidentally'\r\n",
        "\r\n",
        "print(random_string[0:8])"
      ],
      "execution_count": null,
      "outputs": [
        {
          "output_type": "stream",
          "text": [
            "incident\n"
          ],
          "name": "stdout"
        }
      ]
    },
    {
      "cell_type": "markdown",
      "metadata": {
        "id": "WOqG2kRJdMNS"
      },
      "source": [
        "30"
      ]
    },
    {
      "cell_type": "code",
      "metadata": {
        "colab": {
          "base_uri": "https://localhost:8080/"
        },
        "id": "gZsPRFrydNAn",
        "outputId": "679a95c1-618c-46cb-d2aa-b653ce0e3f21"
      },
      "source": [
        "# With a given integral number n, write a program to generate a dictionary that contains (i, i x i) such that is an integral number between 1 and n (both included).\r\n",
        "\r\n",
        "n = 10\r\n",
        "ans={i : i*i for i in range(1,n+1)}\r\n",
        "print(ans)"
      ],
      "execution_count": null,
      "outputs": [
        {
          "output_type": "stream",
          "text": [
            "{1: 1, 2: 4, 3: 9, 4: 16, 5: 25, 6: 36, 7: 49, 8: 64, 9: 81, 10: 100}\n"
          ],
          "name": "stdout"
        }
      ]
    },
    {
      "cell_type": "markdown",
      "metadata": {
        "id": "dmjG23WQd0tv"
      },
      "source": [
        "31"
      ]
    },
    {
      "cell_type": "code",
      "metadata": {
        "colab": {
          "base_uri": "https://localhost:8080/"
        },
        "id": "BdeZVTu6d1sg",
        "outputId": "332cf09c-0b20-4c34-ad7a-2abc316ce713"
      },
      "source": [
        "# Write a program that accepts a sequence of whitespace separated words as input and prints the words after removing all duplicate words and sorting them alphanumerically.\r\n",
        "\r\n",
        "s = \"hello world and practice makes perfect and hello world again\"\r\n",
        "words = [word for word in s.split(\" \")]\r\n",
        "print (\" \".join(sorted(list(set(words)))))"
      ],
      "execution_count": null,
      "outputs": [
        {
          "output_type": "stream",
          "text": [
            "again and hello makes perfect practice world\n"
          ],
          "name": "stdout"
        }
      ]
    },
    {
      "cell_type": "markdown",
      "metadata": {
        "id": "FG6BP-6cgCGa"
      },
      "source": [
        "32"
      ]
    },
    {
      "cell_type": "code",
      "metadata": {
        "colab": {
          "base_uri": "https://localhost:8080/"
        },
        "id": "TbZsBIQngDDA",
        "outputId": "e6c0fc6e-4b7b-43f9-da05-6d1c8794d927"
      },
      "source": [
        "# Write a program which accepts a sequence of comma separated 4 digit binary numbers as its input and then check whether they are divisible by 5 or not. The numbers that are divisible by 5 are to be printed in a comma separated sequence.\r\n",
        "\r\n",
        "numbers = '0100,0011,1010,1001'\r\n",
        "\r\n",
        "value = []\r\n",
        "items=[x for x in numbers.split(',')]\r\n",
        "for p in items:\r\n",
        "    intp = int(p,2)\r\n",
        "    if not intp % 5:\r\n",
        "        value.append(p)\r\n",
        "\r\n",
        "print (','.join(value))"
      ],
      "execution_count": null,
      "outputs": [
        {
          "output_type": "stream",
          "text": [
            "1010\n"
          ],
          "name": "stdout"
        }
      ]
    },
    {
      "cell_type": "markdown",
      "metadata": {
        "id": "t1iG4PAfh_lQ"
      },
      "source": [
        "33"
      ]
    },
    {
      "cell_type": "code",
      "metadata": {
        "colab": {
          "base_uri": "https://localhost:8080/"
        },
        "id": "_yR_Z1aEiAOm",
        "outputId": "7df28cf9-b612-4d1c-bbb3-e0f2d2cd737c"
      },
      "source": [
        "# Write a program that accepts a sentence and calculate the number of letters and digits and print the result\r\n",
        "\r\n",
        "word = 'hello world! 123'\r\n",
        "letter, digit = 0,0\r\n",
        "\r\n",
        "for i in word:\r\n",
        "    if i.isalpha(): # returns True if alphabet\r\n",
        "        letter += 1\r\n",
        "    elif i.isnumeric(): # returns True if numeric\r\n",
        "        digit += 1\r\n",
        "\r\n",
        "print(\"LETTERS {0}\\nDIGITS {1}\".format(letter,digit))"
      ],
      "execution_count": null,
      "outputs": [
        {
          "output_type": "stream",
          "text": [
            "LETTERS 10\n",
            "DIGITS 3\n"
          ],
          "name": "stdout"
        }
      ]
    },
    {
      "cell_type": "markdown",
      "metadata": {
        "id": "28IYdY5ksMPA"
      },
      "source": [
        "34"
      ]
    },
    {
      "cell_type": "code",
      "metadata": {
        "colab": {
          "base_uri": "https://localhost:8080/"
        },
        "id": "PMenyqFvim11",
        "outputId": "d4a434c4-1533-4b9c-d28f-6a7eccfcefb6"
      },
      "source": [
        "# Write a program that accepts a sentence and calculate the number of upper case letters and lower case letters and print the result\r\n",
        "\r\n",
        "word = 'The answer is 42!'\r\n",
        "upper,lower = 0,0\r\n",
        "\r\n",
        "for i in word:\r\n",
        "        lower+=i.islower()\r\n",
        "        upper+=i.isupper()\r\n",
        "\r\n",
        "print(\"UPPER CASE {0}\\nLOWER CASE {1}\".format(upper,lower))"
      ],
      "execution_count": null,
      "outputs": [
        {
          "output_type": "stream",
          "text": [
            "UPPER CASE 1\n",
            "LOWER CASE 10\n"
          ],
          "name": "stdout"
        }
      ]
    },
    {
      "cell_type": "markdown",
      "metadata": {
        "id": "Zwx6mSh5snbo"
      },
      "source": [
        "35"
      ]
    },
    {
      "cell_type": "code",
      "metadata": {
        "colab": {
          "base_uri": "https://localhost:8080/",
          "height": 316
        },
        "id": "9ApucrN_sovS",
        "outputId": "19b9b839-33cd-4193-cb4a-b772c028d4e6"
      },
      "source": [
        "# Write a program that prints the square of odd numbers in the given list\r\n",
        "\r\n",
        "list_ints = '1,2,3,4,5,6,7,8,9'\r\n",
        "\r\n",
        "seq = list_ints.split(',') \r\n",
        "lst = [int(i) for i in seq]\r\n",
        "def flt(i):                                           #Define a filter function\r\n",
        "    return i % 2 != 0\r\n",
        "result_l = [str(i * i) for i in filter(flt,lst)]      \r\n",
        "print(\",\".join(result_l))"
      ],
      "execution_count": 63,
      "outputs": [
        {
          "output_type": "error",
          "ename": "TypeError",
          "evalue": "ignored",
          "traceback": [
            "\u001b[0;31m---------------------------------------------------------------------------\u001b[0m",
            "\u001b[0;31mTypeError\u001b[0m                                 Traceback (most recent call last)",
            "\u001b[0;32m<ipython-input-63-ad97721f1124>\u001b[0m in \u001b[0;36m<module>\u001b[0;34m()\u001b[0m\n\u001b[1;32m      7\u001b[0m \u001b[0;32mdef\u001b[0m \u001b[0mflt\u001b[0m\u001b[0;34m(\u001b[0m\u001b[0mi\u001b[0m\u001b[0;34m)\u001b[0m\u001b[0;34m:\u001b[0m                                           \u001b[0;31m#Define a filter function\u001b[0m\u001b[0;34m\u001b[0m\u001b[0;34m\u001b[0m\u001b[0m\n\u001b[1;32m      8\u001b[0m     \u001b[0;32mreturn\u001b[0m \u001b[0mi\u001b[0m \u001b[0;34m%\u001b[0m \u001b[0;36m2\u001b[0m \u001b[0;34m!=\u001b[0m \u001b[0;36m0\u001b[0m\u001b[0;34m\u001b[0m\u001b[0;34m\u001b[0m\u001b[0m\n\u001b[0;32m----> 9\u001b[0;31m \u001b[0mresult_l\u001b[0m \u001b[0;34m=\u001b[0m \u001b[0;34m[\u001b[0m\u001b[0mstr\u001b[0m\u001b[0;34m(\u001b[0m\u001b[0mi\u001b[0m \u001b[0;34m*\u001b[0m \u001b[0mi\u001b[0m\u001b[0;34m)\u001b[0m \u001b[0;32mfor\u001b[0m \u001b[0mi\u001b[0m \u001b[0;32min\u001b[0m \u001b[0mfilter\u001b[0m\u001b[0;34m(\u001b[0m\u001b[0mflt\u001b[0m\u001b[0;34m,\u001b[0m\u001b[0mlst\u001b[0m\u001b[0;34m)\u001b[0m\u001b[0;34m]\u001b[0m\u001b[0;34m\u001b[0m\u001b[0;34m\u001b[0m\u001b[0m\n\u001b[0m\u001b[1;32m     10\u001b[0m \u001b[0mprint\u001b[0m\u001b[0;34m(\u001b[0m\u001b[0;34m\",\"\u001b[0m\u001b[0;34m.\u001b[0m\u001b[0mjoin\u001b[0m\u001b[0;34m(\u001b[0m\u001b[0mresult_l\u001b[0m\u001b[0;34m)\u001b[0m\u001b[0;34m)\u001b[0m\u001b[0;34m\u001b[0m\u001b[0;34m\u001b[0m\u001b[0m\n",
            "\u001b[0;32m<ipython-input-63-ad97721f1124>\u001b[0m in \u001b[0;36m<listcomp>\u001b[0;34m(.0)\u001b[0m\n\u001b[1;32m      7\u001b[0m \u001b[0;32mdef\u001b[0m \u001b[0mflt\u001b[0m\u001b[0;34m(\u001b[0m\u001b[0mi\u001b[0m\u001b[0;34m)\u001b[0m\u001b[0;34m:\u001b[0m                                           \u001b[0;31m#Define a filter function\u001b[0m\u001b[0;34m\u001b[0m\u001b[0;34m\u001b[0m\u001b[0m\n\u001b[1;32m      8\u001b[0m     \u001b[0;32mreturn\u001b[0m \u001b[0mi\u001b[0m \u001b[0;34m%\u001b[0m \u001b[0;36m2\u001b[0m \u001b[0;34m!=\u001b[0m \u001b[0;36m0\u001b[0m\u001b[0;34m\u001b[0m\u001b[0;34m\u001b[0m\u001b[0m\n\u001b[0;32m----> 9\u001b[0;31m \u001b[0mresult_l\u001b[0m \u001b[0;34m=\u001b[0m \u001b[0;34m[\u001b[0m\u001b[0mstr\u001b[0m\u001b[0;34m(\u001b[0m\u001b[0mi\u001b[0m \u001b[0;34m*\u001b[0m \u001b[0mi\u001b[0m\u001b[0;34m)\u001b[0m \u001b[0;32mfor\u001b[0m \u001b[0mi\u001b[0m \u001b[0;32min\u001b[0m \u001b[0mfilter\u001b[0m\u001b[0;34m(\u001b[0m\u001b[0mflt\u001b[0m\u001b[0;34m,\u001b[0m\u001b[0mlst\u001b[0m\u001b[0;34m)\u001b[0m\u001b[0;34m]\u001b[0m\u001b[0;34m\u001b[0m\u001b[0;34m\u001b[0m\u001b[0m\n\u001b[0m\u001b[1;32m     10\u001b[0m \u001b[0mprint\u001b[0m\u001b[0;34m(\u001b[0m\u001b[0;34m\",\"\u001b[0m\u001b[0;34m.\u001b[0m\u001b[0mjoin\u001b[0m\u001b[0;34m(\u001b[0m\u001b[0mresult_l\u001b[0m\u001b[0;34m)\u001b[0m\u001b[0;34m)\u001b[0m\u001b[0;34m\u001b[0m\u001b[0;34m\u001b[0m\u001b[0m\n",
            "\u001b[0;31mTypeError\u001b[0m: 'str' object is not callable"
          ]
        }
      ]
    }
  ]
}